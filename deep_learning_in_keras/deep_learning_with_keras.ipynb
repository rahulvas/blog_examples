{
 "cells": [
  {
   "cell_type": "code",
   "execution_count": 1,
   "metadata": {},
   "outputs": [],
   "source": [
    "## from blog:\n",
    "## https://towardsdatascience.com/building-a-deep-learning-model-using-keras-1548ca149d37"
   ]
  },
  {
   "cell_type": "code",
   "execution_count": 15,
   "metadata": {},
   "outputs": [],
   "source": [
    "import pandas as pd\n",
    "import numpy as np"
   ]
  },
  {
   "cell_type": "code",
   "execution_count": 3,
   "metadata": {},
   "outputs": [
    {
     "data": {
      "text/html": [
       "<div>\n",
       "<style>\n",
       "    .dataframe thead tr:only-child th {\n",
       "        text-align: right;\n",
       "    }\n",
       "\n",
       "    .dataframe thead th {\n",
       "        text-align: left;\n",
       "    }\n",
       "\n",
       "    .dataframe tbody tr th {\n",
       "        vertical-align: top;\n",
       "    }\n",
       "</style>\n",
       "<table border=\"1\" class=\"dataframe\">\n",
       "  <thead>\n",
       "    <tr style=\"text-align: right;\">\n",
       "      <th></th>\n",
       "      <th>wage_per_hour</th>\n",
       "      <th>union</th>\n",
       "      <th>education_yrs</th>\n",
       "      <th>experience_yrs</th>\n",
       "      <th>age</th>\n",
       "      <th>female</th>\n",
       "      <th>marr</th>\n",
       "      <th>south</th>\n",
       "      <th>manufacturing</th>\n",
       "      <th>construction</th>\n",
       "    </tr>\n",
       "  </thead>\n",
       "  <tbody>\n",
       "    <tr>\n",
       "      <th>0</th>\n",
       "      <td>5.10</td>\n",
       "      <td>0</td>\n",
       "      <td>8</td>\n",
       "      <td>21</td>\n",
       "      <td>35</td>\n",
       "      <td>1</td>\n",
       "      <td>1</td>\n",
       "      <td>0</td>\n",
       "      <td>1</td>\n",
       "      <td>0</td>\n",
       "    </tr>\n",
       "    <tr>\n",
       "      <th>1</th>\n",
       "      <td>4.95</td>\n",
       "      <td>0</td>\n",
       "      <td>9</td>\n",
       "      <td>42</td>\n",
       "      <td>57</td>\n",
       "      <td>1</td>\n",
       "      <td>1</td>\n",
       "      <td>0</td>\n",
       "      <td>1</td>\n",
       "      <td>0</td>\n",
       "    </tr>\n",
       "    <tr>\n",
       "      <th>2</th>\n",
       "      <td>6.67</td>\n",
       "      <td>0</td>\n",
       "      <td>12</td>\n",
       "      <td>1</td>\n",
       "      <td>19</td>\n",
       "      <td>0</td>\n",
       "      <td>0</td>\n",
       "      <td>0</td>\n",
       "      <td>1</td>\n",
       "      <td>0</td>\n",
       "    </tr>\n",
       "    <tr>\n",
       "      <th>3</th>\n",
       "      <td>4.00</td>\n",
       "      <td>0</td>\n",
       "      <td>12</td>\n",
       "      <td>4</td>\n",
       "      <td>22</td>\n",
       "      <td>0</td>\n",
       "      <td>0</td>\n",
       "      <td>0</td>\n",
       "      <td>0</td>\n",
       "      <td>0</td>\n",
       "    </tr>\n",
       "    <tr>\n",
       "      <th>4</th>\n",
       "      <td>7.50</td>\n",
       "      <td>0</td>\n",
       "      <td>12</td>\n",
       "      <td>17</td>\n",
       "      <td>35</td>\n",
       "      <td>0</td>\n",
       "      <td>1</td>\n",
       "      <td>0</td>\n",
       "      <td>0</td>\n",
       "      <td>0</td>\n",
       "    </tr>\n",
       "  </tbody>\n",
       "</table>\n",
       "</div>"
      ],
      "text/plain": [
       "   wage_per_hour  union  education_yrs  experience_yrs  age  female  marr  \\\n",
       "0           5.10      0              8              21   35       1     1   \n",
       "1           4.95      0              9              42   57       1     1   \n",
       "2           6.67      0             12               1   19       0     0   \n",
       "3           4.00      0             12               4   22       0     0   \n",
       "4           7.50      0             12              17   35       0     1   \n",
       "\n",
       "   south  manufacturing  construction  \n",
       "0      0              1             0  \n",
       "1      0              1             0  \n",
       "2      0              1             0  \n",
       "3      0              0             0  \n",
       "4      0              0             0  "
      ]
     },
     "execution_count": 3,
     "metadata": {},
     "output_type": "execute_result"
    }
   ],
   "source": [
    "train_df = pd.read_csv('data/hourly_wages_data.csv')\n",
    "\n",
    "train_df.head()"
   ]
  },
  {
   "cell_type": "code",
   "execution_count": 4,
   "metadata": {},
   "outputs": [
    {
     "data": {
      "text/html": [
       "<div>\n",
       "<style>\n",
       "    .dataframe thead tr:only-child th {\n",
       "        text-align: right;\n",
       "    }\n",
       "\n",
       "    .dataframe thead th {\n",
       "        text-align: left;\n",
       "    }\n",
       "\n",
       "    .dataframe tbody tr th {\n",
       "        vertical-align: top;\n",
       "    }\n",
       "</style>\n",
       "<table border=\"1\" class=\"dataframe\">\n",
       "  <thead>\n",
       "    <tr style=\"text-align: right;\">\n",
       "      <th></th>\n",
       "      <th>union</th>\n",
       "      <th>education_yrs</th>\n",
       "      <th>experience_yrs</th>\n",
       "      <th>age</th>\n",
       "      <th>female</th>\n",
       "      <th>marr</th>\n",
       "      <th>south</th>\n",
       "      <th>manufacturing</th>\n",
       "      <th>construction</th>\n",
       "    </tr>\n",
       "  </thead>\n",
       "  <tbody>\n",
       "    <tr>\n",
       "      <th>0</th>\n",
       "      <td>0</td>\n",
       "      <td>8</td>\n",
       "      <td>21</td>\n",
       "      <td>35</td>\n",
       "      <td>1</td>\n",
       "      <td>1</td>\n",
       "      <td>0</td>\n",
       "      <td>1</td>\n",
       "      <td>0</td>\n",
       "    </tr>\n",
       "    <tr>\n",
       "      <th>1</th>\n",
       "      <td>0</td>\n",
       "      <td>9</td>\n",
       "      <td>42</td>\n",
       "      <td>57</td>\n",
       "      <td>1</td>\n",
       "      <td>1</td>\n",
       "      <td>0</td>\n",
       "      <td>1</td>\n",
       "      <td>0</td>\n",
       "    </tr>\n",
       "    <tr>\n",
       "      <th>2</th>\n",
       "      <td>0</td>\n",
       "      <td>12</td>\n",
       "      <td>1</td>\n",
       "      <td>19</td>\n",
       "      <td>0</td>\n",
       "      <td>0</td>\n",
       "      <td>0</td>\n",
       "      <td>1</td>\n",
       "      <td>0</td>\n",
       "    </tr>\n",
       "    <tr>\n",
       "      <th>3</th>\n",
       "      <td>0</td>\n",
       "      <td>12</td>\n",
       "      <td>4</td>\n",
       "      <td>22</td>\n",
       "      <td>0</td>\n",
       "      <td>0</td>\n",
       "      <td>0</td>\n",
       "      <td>0</td>\n",
       "      <td>0</td>\n",
       "    </tr>\n",
       "    <tr>\n",
       "      <th>4</th>\n",
       "      <td>0</td>\n",
       "      <td>12</td>\n",
       "      <td>17</td>\n",
       "      <td>35</td>\n",
       "      <td>0</td>\n",
       "      <td>1</td>\n",
       "      <td>0</td>\n",
       "      <td>0</td>\n",
       "      <td>0</td>\n",
       "    </tr>\n",
       "  </tbody>\n",
       "</table>\n",
       "</div>"
      ],
      "text/plain": [
       "   union  education_yrs  experience_yrs  age  female  marr  south  \\\n",
       "0      0              8              21   35       1     1      0   \n",
       "1      0              9              42   57       1     1      0   \n",
       "2      0             12               1   19       0     0      0   \n",
       "3      0             12               4   22       0     0      0   \n",
       "4      0             12              17   35       0     1      0   \n",
       "\n",
       "   manufacturing  construction  \n",
       "0              1             0  \n",
       "1              1             0  \n",
       "2              1             0  \n",
       "3              0             0  \n",
       "4              0             0  "
      ]
     },
     "execution_count": 4,
     "metadata": {},
     "output_type": "execute_result"
    }
   ],
   "source": [
    "# get independent features\n",
    "\n",
    "train_X = train_df.drop(['wage_per_hour'], axis=1)\n",
    "\n",
    "train_X.head()"
   ]
  },
  {
   "cell_type": "code",
   "execution_count": 5,
   "metadata": {},
   "outputs": [
    {
     "data": {
      "text/html": [
       "<div>\n",
       "<style>\n",
       "    .dataframe thead tr:only-child th {\n",
       "        text-align: right;\n",
       "    }\n",
       "\n",
       "    .dataframe thead th {\n",
       "        text-align: left;\n",
       "    }\n",
       "\n",
       "    .dataframe tbody tr th {\n",
       "        vertical-align: top;\n",
       "    }\n",
       "</style>\n",
       "<table border=\"1\" class=\"dataframe\">\n",
       "  <thead>\n",
       "    <tr style=\"text-align: right;\">\n",
       "      <th></th>\n",
       "      <th>wage_per_hour</th>\n",
       "    </tr>\n",
       "  </thead>\n",
       "  <tbody>\n",
       "    <tr>\n",
       "      <th>0</th>\n",
       "      <td>5.10</td>\n",
       "    </tr>\n",
       "    <tr>\n",
       "      <th>1</th>\n",
       "      <td>4.95</td>\n",
       "    </tr>\n",
       "    <tr>\n",
       "      <th>2</th>\n",
       "      <td>6.67</td>\n",
       "    </tr>\n",
       "    <tr>\n",
       "      <th>3</th>\n",
       "      <td>4.00</td>\n",
       "    </tr>\n",
       "    <tr>\n",
       "      <th>4</th>\n",
       "      <td>7.50</td>\n",
       "    </tr>\n",
       "  </tbody>\n",
       "</table>\n",
       "</div>"
      ],
      "text/plain": [
       "   wage_per_hour\n",
       "0           5.10\n",
       "1           4.95\n",
       "2           6.67\n",
       "3           4.00\n",
       "4           7.50"
      ]
     },
     "execution_count": 5,
     "metadata": {},
     "output_type": "execute_result"
    }
   ],
   "source": [
    "## get dependent variable\n",
    "\n",
    "train_y = train_df[['wage_per_hour']]\n",
    "\n",
    "train_y.head()"
   ]
  },
  {
   "cell_type": "code",
   "execution_count": 6,
   "metadata": {},
   "outputs": [
    {
     "name": "stderr",
     "output_type": "stream",
     "text": [
      "/Users/rvaswani/anaconda3/lib/python3.6/site-packages/h5py/__init__.py:34: FutureWarning: Conversion of the second argument of issubdtype from `float` to `np.floating` is deprecated. In future, it will be treated as `np.float64 == np.dtype(float).type`.\n",
      "  from ._conv import register_converters as _register_converters\n",
      "Using TensorFlow backend.\n"
     ]
    }
   ],
   "source": [
    "from keras.models import Sequential\n",
    "from keras.layers import Dense"
   ]
  },
  {
   "cell_type": "code",
   "execution_count": 8,
   "metadata": {},
   "outputs": [],
   "source": [
    "model = Sequential()\n",
    "## According to Keras documentation: the Sequential model is a linear stack of layers."
   ]
  },
  {
   "cell_type": "code",
   "execution_count": 9,
   "metadata": {},
   "outputs": [],
   "source": [
    "# get number of columns in training data:\n",
    "n_cols = train_X.shape[1]"
   ]
  },
  {
   "cell_type": "code",
   "execution_count": 10,
   "metadata": {},
   "outputs": [],
   "source": [
    "# add layers\n",
    "model.add(Dense(10, activation = 'relu', input_shape=(n_cols,)))\n",
    "model.add(Dense(10, activation = 'relu'))\n",
    "model.add(Dense(1))"
   ]
  },
  {
   "cell_type": "code",
   "execution_count": 11,
   "metadata": {},
   "outputs": [],
   "source": [
    "# compile model using mse as a measure of model performance\n",
    "model.compile(optimizer='adam', loss = 'mean_squared_error')"
   ]
  },
  {
   "cell_type": "code",
   "execution_count": 12,
   "metadata": {},
   "outputs": [],
   "source": [
    "# Set up early stopping to stop the number of times the data gets run through the model.\n",
    "# We use three to say that if the data gets passed through the model 3 times and the model stops improving\n",
    "# we will stop the model fitting process.\n",
    "\n",
    "from keras.callbacks import EarlyStopping\n",
    "\n",
    "#set early stopping monitor so the model stops training when it won't imrpove anymore.\n",
    "early_stopping_monitor = EarlyStopping(patience = 3)"
   ]
  },
  {
   "cell_type": "code",
   "execution_count": 13,
   "metadata": {},
   "outputs": [
    {
     "name": "stdout",
     "output_type": "stream",
     "text": [
      "Train on 427 samples, validate on 107 samples\n",
      "Epoch 1/30\n",
      "427/427 [==============================] - 0s 623us/step - loss: 90.7018 - val_loss: 150.5134\n",
      "Epoch 2/30\n",
      "427/427 [==============================] - 0s 45us/step - loss: 63.9398 - val_loss: 116.0555\n",
      "Epoch 3/30\n",
      "427/427 [==============================] - 0s 43us/step - loss: 46.3285 - val_loss: 89.5797\n",
      "Epoch 4/30\n",
      "427/427 [==============================] - 0s 44us/step - loss: 35.1279 - val_loss: 67.5113\n",
      "Epoch 5/30\n",
      "427/427 [==============================] - 0s 49us/step - loss: 27.8768 - val_loss: 53.0496\n",
      "Epoch 6/30\n",
      "427/427 [==============================] - 0s 46us/step - loss: 25.7130 - val_loss: 48.0911\n",
      "Epoch 7/30\n",
      "427/427 [==============================] - 0s 40us/step - loss: 24.6199 - val_loss: 48.1628\n",
      "Epoch 8/30\n",
      "427/427 [==============================] - 0s 39us/step - loss: 24.0019 - val_loss: 46.0820\n",
      "Epoch 9/30\n",
      "427/427 [==============================] - 0s 43us/step - loss: 23.4557 - val_loss: 44.8764\n",
      "Epoch 10/30\n",
      "427/427 [==============================] - 0s 44us/step - loss: 22.8931 - val_loss: 42.4312\n",
      "Epoch 11/30\n",
      "427/427 [==============================] - 0s 44us/step - loss: 22.5120 - val_loss: 41.8743\n",
      "Epoch 12/30\n",
      "427/427 [==============================] - 0s 42us/step - loss: 22.0535 - val_loss: 40.4554\n",
      "Epoch 13/30\n",
      "427/427 [==============================] - 0s 42us/step - loss: 21.6118 - val_loss: 39.9003\n",
      "Epoch 14/30\n",
      "427/427 [==============================] - 0s 44us/step - loss: 21.2900 - val_loss: 39.0636\n",
      "Epoch 15/30\n",
      "427/427 [==============================] - 0s 42us/step - loss: 20.8925 - val_loss: 37.0615\n",
      "Epoch 16/30\n",
      "427/427 [==============================] - 0s 45us/step - loss: 20.8038 - val_loss: 36.6827\n",
      "Epoch 17/30\n",
      "427/427 [==============================] - 0s 44us/step - loss: 20.8502 - val_loss: 37.3782\n",
      "Epoch 18/30\n",
      "427/427 [==============================] - 0s 45us/step - loss: 20.0984 - val_loss: 34.4810\n",
      "Epoch 19/30\n",
      "427/427 [==============================] - 0s 43us/step - loss: 20.0318 - val_loss: 34.8607\n",
      "Epoch 20/30\n",
      "427/427 [==============================] - 0s 44us/step - loss: 19.7627 - val_loss: 34.2954\n",
      "Epoch 21/30\n",
      "427/427 [==============================] - 0s 45us/step - loss: 19.7649 - val_loss: 33.5814\n",
      "Epoch 22/30\n",
      "427/427 [==============================] - 0s 47us/step - loss: 19.5413 - val_loss: 34.6287\n",
      "Epoch 23/30\n",
      "427/427 [==============================] - 0s 43us/step - loss: 19.3882 - val_loss: 32.4095\n",
      "Epoch 24/30\n",
      "427/427 [==============================] - 0s 48us/step - loss: 19.5157 - val_loss: 33.1165\n",
      "Epoch 25/30\n",
      "427/427 [==============================] - 0s 44us/step - loss: 19.2483 - val_loss: 31.7751\n",
      "Epoch 26/30\n",
      "427/427 [==============================] - 0s 41us/step - loss: 19.0523 - val_loss: 32.8941\n",
      "Epoch 27/30\n",
      "427/427 [==============================] - 0s 47us/step - loss: 18.9686 - val_loss: 31.7118\n",
      "Epoch 28/30\n",
      "427/427 [==============================] - 0s 46us/step - loss: 18.9779 - val_loss: 30.9217\n",
      "Epoch 29/30\n",
      "427/427 [==============================] - 0s 45us/step - loss: 18.9217 - val_loss: 31.7369\n",
      "Epoch 30/30\n",
      "427/427 [==============================] - 0s 48us/step - loss: 18.9705 - val_loss: 32.7679\n"
     ]
    },
    {
     "data": {
      "text/plain": [
       "<keras.callbacks.History at 0x182b260cf8>"
      ]
     },
     "execution_count": 13,
     "metadata": {},
     "output_type": "execute_result"
    }
   ],
   "source": [
    "# train model\n",
    "model.fit(train_X, train_y, validation_split = 0.2, epochs=30, callbacks = [early_stopping_monitor])"
   ]
  },
  {
   "cell_type": "code",
   "execution_count": 49,
   "metadata": {},
   "outputs": [
    {
     "name": "stdout",
     "output_type": "stream",
     "text": [
      "accuracy : 58.31915865056455\n"
     ]
    }
   ],
   "source": [
    "# test model on what our training data is. the blog just assumed some random test data, but let's see how accurate\n",
    "# we are with the train data.\n",
    "\n",
    "train_y_predictions = model.predict(train_X)\n",
    "print(\"accuracy :\", np.mean((1 - abs((np.array(train_y) - train_y_predictions)/np.array(train_y))) * 100))"
   ]
  },
  {
   "cell_type": "code",
   "execution_count": 50,
   "metadata": {},
   "outputs": [],
   "source": [
    "## train new model with higher capacity\n",
    "\n",
    "model_mc = Sequential()"
   ]
  },
  {
   "cell_type": "code",
   "execution_count": 51,
   "metadata": {},
   "outputs": [
    {
     "name": "stdout",
     "output_type": "stream",
     "text": [
      "Train on 427 samples, validate on 107 samples\n",
      "Epoch 1/30\n",
      "427/427 [==============================] - 0s 686us/step - loss: 29.5860 - val_loss: 30.2246\n",
      "Epoch 2/30\n",
      "427/427 [==============================] - 0s 67us/step - loss: 22.9970 - val_loss: 27.5688\n",
      "Epoch 3/30\n",
      "427/427 [==============================] - 0s 73us/step - loss: 22.1120 - val_loss: 29.7175\n",
      "Epoch 4/30\n",
      "427/427 [==============================] - 0s 63us/step - loss: 20.4426 - val_loss: 29.1642\n",
      "Epoch 5/30\n",
      "427/427 [==============================] - 0s 64us/step - loss: 19.6041 - val_loss: 28.8979\n"
     ]
    },
    {
     "data": {
      "text/plain": [
       "<keras.callbacks.History at 0x1828e8dc50>"
      ]
     },
     "execution_count": 51,
     "metadata": {},
     "output_type": "execute_result"
    }
   ],
   "source": [
    "# add layers\n",
    "model_mc.add(Dense(200, activation = 'relu', input_shape = (n_cols,)))\n",
    "model_mc.add(Dense(200, activation = 'relu'))\n",
    "model_mc.add(Dense(200, activation = 'relu'))\n",
    "model_mc.add(Dense(1))\n",
    "\n",
    "# compile\n",
    "model_mc.compile(optimizer = 'adam', loss = 'mean_squared_error')\n",
    "\n",
    "# train\n",
    "model_mc.fit(train_X, train_y, validation_split = 0.2, epochs = 30, callbacks = [early_stopping_monitor])"
   ]
  },
  {
   "cell_type": "code",
   "execution_count": 55,
   "metadata": {},
   "outputs": [],
   "source": [
    "train_y_predictions = model.predict(train_X)"
   ]
  },
  {
   "cell_type": "code",
   "execution_count": 56,
   "metadata": {},
   "outputs": [
    {
     "name": "stdout",
     "output_type": "stream",
     "text": [
      "accuracy : 58.31915865056455\n"
     ]
    }
   ],
   "source": [
    "print(\"accuracy :\", np.mean((1 - abs((np.array(train_y) - train_y_predictions)/np.array(train_y))) * 100))"
   ]
  },
  {
   "cell_type": "code",
   "execution_count": null,
   "metadata": {},
   "outputs": [],
   "source": []
  }
 ],
 "metadata": {
  "kernelspec": {
   "display_name": "Python 3",
   "language": "python",
   "name": "python3"
  },
  "language_info": {
   "codemirror_mode": {
    "name": "ipython",
    "version": 3
   },
   "file_extension": ".py",
   "mimetype": "text/x-python",
   "name": "python",
   "nbconvert_exporter": "python",
   "pygments_lexer": "ipython3",
   "version": "3.6.3"
  }
 },
 "nbformat": 4,
 "nbformat_minor": 2
}
