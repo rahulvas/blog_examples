{
 "cells": [
  {
   "cell_type": "markdown",
   "metadata": {},
   "source": [
    "## Comparison of Sentiment Analyzers: TextBlob vs Vader\n",
    "\n",
    "I'm currently using TextBlob to classify the sentiment of tweets for another project that I'm working on; however, I recently saw a [blog post](https://medium.com/analytics-vidhya/simplifying-social-media-sentiment-analysis-using-vader-in-python-f9e6ec6fc52f) about Vader, so I decided to test both out on Bitcoin tweets and compare the results.\n",
    "\n",
    "If you do end up reading the article about Vader, please note that I'm using the Compound score metric as a sentiment metric, rather than the probability percentages Vader also produces.\n",
    "\n",
    "Ultimately, I was rather shocked at how poorly TextBlob classified tweets and I was fairly surprised by Vader's conservative sentiment ratings. I believe that I need to figure out a way to use these two in conjuction to come up with a more accurate sentiment analyzer."
   ]
  },
  {
   "cell_type": "code",
   "execution_count": 1,
   "metadata": {},
   "outputs": [],
   "source": [
    "import pandas as pd\n",
    "import numpy as np\n",
    "import matplotlib.pyplot as plt\n",
    "import re\n",
    "import seaborn as sns\n",
    "from textblob import TextBlob\n",
    "from vaderSentiment.vaderSentiment import SentimentIntensityAnalyzer\n",
    "\n",
    "sns.set_style(\"darkgrid\")"
   ]
  },
  {
   "cell_type": "code",
   "execution_count": 2,
   "metadata": {},
   "outputs": [],
   "source": [
    "df = pd.read_csv('CryptoTweets20190522.csv')"
   ]
  },
  {
   "cell_type": "code",
   "execution_count": 3,
   "metadata": {},
   "outputs": [],
   "source": [
    "df = df.loc[df.ticker == 'btc'][['ticker', 'timestamp', 'text']]"
   ]
  },
  {
   "cell_type": "code",
   "execution_count": 4,
   "metadata": {},
   "outputs": [],
   "source": [
    "## The CST and CDT are causing wonky warnings due to dateutil's parser \n",
    "## and since I don't really need them, I'll just sub them out.\n",
    "\n",
    "rep = {\" CST \" : \" \", \" CDT \" : \" \"}\n",
    "rep = dict((re.escape(k), v) for k, v in rep.items())\n",
    "pattern = re.compile(\"|\".join(rep.keys()))\n",
    "df['timestamp'] = df['timestamp'].apply(lambda x : pattern.sub(lambda m : rep[re.escape(m.group(0))], x))"
   ]
  },
  {
   "cell_type": "code",
   "execution_count": 5,
   "metadata": {},
   "outputs": [],
   "source": [
    "df['date'] = pd.to_datetime(df['timestamp'])"
   ]
  },
  {
   "cell_type": "code",
   "execution_count": 6,
   "metadata": {},
   "outputs": [],
   "source": [
    "df['tb_sent'] = df['text'].apply(lambda x : TextBlob(x).sentiment.polarity)"
   ]
  },
  {
   "cell_type": "code",
   "execution_count": 7,
   "metadata": {},
   "outputs": [],
   "source": [
    "analyzer = SentimentIntensityAnalyzer()\n",
    "\n",
    "df['vd_sent'] = df['text'].apply(lambda x : analyzer.polarity_scores(x)['compound'])"
   ]
  },
  {
   "cell_type": "code",
   "execution_count": 8,
   "metadata": {},
   "outputs": [],
   "source": [
    "samp = df.sample(5)[['text', 'tb_sent', 'vd_sent']]"
   ]
  },
  {
   "cell_type": "code",
   "execution_count": 9,
   "metadata": {},
   "outputs": [],
   "source": [
    "initial = pd.options.display.max_colwidth\n",
    "pd.options.display.max_colwidth = 250"
   ]
  },
  {
   "cell_type": "code",
   "execution_count": 10,
   "metadata": {},
   "outputs": [
    {
     "data": {
      "text/html": [
       "<div>\n",
       "<style scoped>\n",
       "    .dataframe tbody tr th:only-of-type {\n",
       "        vertical-align: middle;\n",
       "    }\n",
       "\n",
       "    .dataframe tbody tr th {\n",
       "        vertical-align: top;\n",
       "    }\n",
       "\n",
       "    .dataframe thead th {\n",
       "        text-align: right;\n",
       "    }\n",
       "</style>\n",
       "<table border=\"1\" class=\"dataframe\">\n",
       "  <thead>\n",
       "    <tr style=\"text-align: right;\">\n",
       "      <th></th>\n",
       "      <th>text</th>\n",
       "      <th>tb_sent</th>\n",
       "      <th>vd_sent</th>\n",
       "    </tr>\n",
       "  </thead>\n",
       "  <tbody>\n",
       "    <tr>\n",
       "      <th>12586</th>\n",
       "      <td>BitCoin is power hashing the ability to control minds.</td>\n",
       "      <td>0.0</td>\n",
       "      <td>0.3182</td>\n",
       "    </tr>\n",
       "    <tr>\n",
       "      <th>11181</th>\n",
       "      <td>Bitcoin's Bulls Are Revving Up the Lamborghinis - Washington Post https://t.co/Uxz6rLHe0x</td>\n",
       "      <td>0.0</td>\n",
       "      <td>0.0000</td>\n",
       "    </tr>\n",
       "    <tr>\n",
       "      <th>12576</th>\n",
       "      <td>#BTC#Plustoken#SCFtoken#globalpay上げましたね。何アゲなんでしょうか？BTCFXの利益は配当型のウォレットに全て入れます。https://t.co/XU9avh5ZOD https://t.co/5F1vxXb6oO</td>\n",
       "      <td>0.0</td>\n",
       "      <td>0.0000</td>\n",
       "    </tr>\n",
       "    <tr>\n",
       "      <th>506</th>\n",
       "      <td>Bitcoin Price Watch: BTC Could Retest $3600 Before Buyers Reappear - https://t.co/oRH82LYGJ7 https://t.co/0lVsgtGUyC</td>\n",
       "      <td>0.0</td>\n",
       "      <td>0.0000</td>\n",
       "    </tr>\n",
       "    <tr>\n",
       "      <th>10868</th>\n",
       "      <td>Bitcoin just broke $7K!!🚀🚀🚀To celebrate we are giving away a Coinmine One!Re-tweet for a chance to win we’ll… https://t.co/o9Kkclhxj4</td>\n",
       "      <td>0.8</td>\n",
       "      <td>0.8743</td>\n",
       "    </tr>\n",
       "  </tbody>\n",
       "</table>\n",
       "</div>"
      ],
      "text/plain": [
       "                                                                                                                                        text  \\\n",
       "12586                                                                                 BitCoin is power hashing the ability to control minds.   \n",
       "11181                                              Bitcoin's Bulls Are Revving Up the Lamborghinis - Washington Post https://t.co/Uxz6rLHe0x   \n",
       "12576           #BTC#Plustoken#SCFtoken#globalpay上げましたね。何アゲなんでしょうか？BTCFXの利益は配当型のウォレットに全て入れます。https://t.co/XU9avh5ZOD https://t.co/5F1vxXb6oO   \n",
       "506                     Bitcoin Price Watch: BTC Could Retest $3600 Before Buyers Reappear - https://t.co/oRH82LYGJ7 https://t.co/0lVsgtGUyC   \n",
       "10868  Bitcoin just broke $7K!!🚀🚀🚀To celebrate we are giving away a Coinmine One!Re-tweet for a chance to win we’ll… https://t.co/o9Kkclhxj4   \n",
       "\n",
       "       tb_sent  vd_sent  \n",
       "12586      0.0   0.3182  \n",
       "11181      0.0   0.0000  \n",
       "12576      0.0   0.0000  \n",
       "506        0.0   0.0000  \n",
       "10868      0.8   0.8743  "
      ]
     },
     "execution_count": 10,
     "metadata": {},
     "output_type": "execute_result"
    }
   ],
   "source": [
    "samp"
   ]
  },
  {
   "cell_type": "code",
   "execution_count": 11,
   "metadata": {},
   "outputs": [
    {
     "data": {
      "text/plain": [
       "<matplotlib.axes._subplots.AxesSubplot at 0x1a24f47c88>"
      ]
     },
     "execution_count": 11,
     "metadata": {},
     "output_type": "execute_result"
    },
    {
     "data": {
      "image/png": "[encoded data removed]",
      "text/plain": [
       "<Figure size 432x288 with 1 Axes>"
      ]
     },
     "metadata": {},
     "output_type": "display_data"
    }
   ],
   "source": [
    "df['vd_sent'].plot.hist()"
   ]
  },
  {
   "cell_type": "code",
   "execution_count": 12,
   "metadata": {},
   "outputs": [
    {
     "data": {
      "text/plain": [
       "<matplotlib.axes._subplots.AxesSubplot at 0x1a24f20358>"
      ]
     },
     "execution_count": 12,
     "metadata": {},
     "output_type": "execute_result"
    },
    {
     "data": {
      "image/png": "[encoded data removed]",
      "text/plain": [
       "<Figure size 432x288 with 1 Axes>"
      ]
     },
     "metadata": {},
     "output_type": "display_data"
    }
   ],
   "source": [
    "df['tb_sent'].plot.hist()"
   ]
  },
  {
   "cell_type": "markdown",
   "metadata": {},
   "source": [
    "We see that Text Blob seems to be classifying a lot more items as neutral than positive or negative; however, Vader seems to spread out the sentiment more evenly. Let's take a look at the highest tweets from both:"
   ]
  },
  {
   "cell_type": "code",
   "execution_count": 13,
   "metadata": {},
   "outputs": [
    {
     "data": {
      "text/html": [
       "<div>\n",
       "<style scoped>\n",
       "    .dataframe tbody tr th:only-of-type {\n",
       "        vertical-align: middle;\n",
       "    }\n",
       "\n",
       "    .dataframe tbody tr th {\n",
       "        vertical-align: top;\n",
       "    }\n",
       "\n",
       "    .dataframe thead th {\n",
       "        text-align: right;\n",
       "    }\n",
       "</style>\n",
       "<table border=\"1\" class=\"dataframe\">\n",
       "  <thead>\n",
       "    <tr style=\"text-align: right;\">\n",
       "      <th></th>\n",
       "      <th>ticker</th>\n",
       "      <th>timestamp</th>\n",
       "      <th>text</th>\n",
       "      <th>date</th>\n",
       "      <th>tb_sent</th>\n",
       "      <th>vd_sent</th>\n",
       "    </tr>\n",
       "  </thead>\n",
       "  <tbody>\n",
       "    <tr>\n",
       "      <th>11558</th>\n",
       "      <td>btc</td>\n",
       "      <td>Tue May 14 07:43:02 2019</td>\n",
       "      <td>Bitcoin Cryptocurrency Course With Crypto Signals Robot - Best Seller): Perfect Crypto Course For Anyone Interested… https://t.co/r6ssaIOmaF</td>\n",
       "      <td>2019-05-14 07:43:02</td>\n",
       "      <td>1.0</td>\n",
       "      <td>0.8360</td>\n",
       "    </tr>\n",
       "    <tr>\n",
       "      <th>12831</th>\n",
       "      <td>btc</td>\n",
       "      <td>Mon May 20 05:20:58 2019</td>\n",
       "      <td>Bitcoins are all the rage today. Hire some of the world's best #Bitcoindevelopers at #Openwave now and hop on the b… https://t.co/pmVmfiTnm8</td>\n",
       "      <td>2019-05-20 05:20:58</td>\n",
       "      <td>1.0</td>\n",
       "      <td>0.1531</td>\n",
       "    </tr>\n",
       "    <tr>\n",
       "      <th>10561</th>\n",
       "      <td>btc</td>\n",
       "      <td>Fri May 10 08:24:05 2019</td>\n",
       "      <td>Bitcoin might be up for another 'magnificent parabolic move' says old-school trader https://t.co/M3XOrogHDX 📈 Cryp… https://t.co/gJ2R9V9P29</td>\n",
       "      <td>2019-05-10 08:24:05</td>\n",
       "      <td>1.0</td>\n",
       "      <td>0.5994</td>\n",
       "    </tr>\n",
       "    <tr>\n",
       "      <th>9482</th>\n",
       "      <td>btc</td>\n",
       "      <td>Sat May 04 10:58:47 2019</td>\n",
       "      <td>Bitcoin Bull Run Is here! Best Bitmex Telegram community of 2019! - Bitcoin Forum https://t.co/0LBpolbG6u.</td>\n",
       "      <td>2019-05-04 10:58:47</td>\n",
       "      <td>1.0</td>\n",
       "      <td>0.6988</td>\n",
       "    </tr>\n",
       "    <tr>\n",
       "      <th>4299</th>\n",
       "      <td>btc</td>\n",
       "      <td>Fri Apr 05 10:09:05 2019</td>\n",
       "      <td>Bitcoin Got The Momentum! Bitmex Leverage trading bot with great features! | Bitcoin Forum - Join Our Cryptocurrenc… https://t.co/lkFRY06ygh</td>\n",
       "      <td>2019-04-05 10:09:05</td>\n",
       "      <td>1.0</td>\n",
       "      <td>0.7835</td>\n",
       "    </tr>\n",
       "  </tbody>\n",
       "</table>\n",
       "</div>"
      ],
      "text/plain": [
       "      ticker                 timestamp  \\\n",
       "11558    btc  Tue May 14 07:43:02 2019   \n",
       "12831    btc  Mon May 20 05:20:58 2019   \n",
       "10561    btc  Fri May 10 08:24:05 2019   \n",
       "9482     btc  Sat May 04 10:58:47 2019   \n",
       "4299     btc  Fri Apr 05 10:09:05 2019   \n",
       "\n",
       "                                                                                                                                               text  \\\n",
       "11558  Bitcoin Cryptocurrency Course With Crypto Signals Robot - Best Seller): Perfect Crypto Course For Anyone Interested… https://t.co/r6ssaIOmaF   \n",
       "12831  Bitcoins are all the rage today. Hire some of the world's best #Bitcoindevelopers at #Openwave now and hop on the b… https://t.co/pmVmfiTnm8   \n",
       "10561   Bitcoin might be up for another 'magnificent parabolic move' says old-school trader https://t.co/M3XOrogHDX 📈 Cryp… https://t.co/gJ2R9V9P29   \n",
       "9482                                     Bitcoin Bull Run Is here! Best Bitmex Telegram community of 2019! - Bitcoin Forum https://t.co/0LBpolbG6u.   \n",
       "4299   Bitcoin Got The Momentum! Bitmex Leverage trading bot with great features! | Bitcoin Forum - Join Our Cryptocurrenc… https://t.co/lkFRY06ygh   \n",
       "\n",
       "                     date  tb_sent  vd_sent  \n",
       "11558 2019-05-14 07:43:02      1.0   0.8360  \n",
       "12831 2019-05-20 05:20:58      1.0   0.1531  \n",
       "10561 2019-05-10 08:24:05      1.0   0.5994  \n",
       "9482  2019-05-04 10:58:47      1.0   0.6988  \n",
       "4299  2019-04-05 10:09:05      1.0   0.7835  "
      ]
     },
     "execution_count": 13,
     "metadata": {},
     "output_type": "execute_result"
    }
   ],
   "source": [
    "df.loc[df['tb_sent'] == df.tb_sent.max()].sample(5)"
   ]
  },
  {
   "cell_type": "markdown",
   "metadata": {},
   "source": [
    "We see that the max score that TextBlob gave our tweets is a perfect positive sentiment score of 1. \n",
    "\n",
    "The last tweet is interesting because here we see the divergence of opinion. TextBlob classifies the sentiment here as positive; however, I'm siding more with Vader on this one. The sentiment of this tweet is quite negative. "
   ]
  },
  {
   "cell_type": "code",
   "execution_count": 14,
   "metadata": {},
   "outputs": [
    {
     "data": {
      "text/html": [
       "<div>\n",
       "<style scoped>\n",
       "    .dataframe tbody tr th:only-of-type {\n",
       "        vertical-align: middle;\n",
       "    }\n",
       "\n",
       "    .dataframe tbody tr th {\n",
       "        vertical-align: top;\n",
       "    }\n",
       "\n",
       "    .dataframe thead th {\n",
       "        text-align: right;\n",
       "    }\n",
       "</style>\n",
       "<table border=\"1\" class=\"dataframe\">\n",
       "  <thead>\n",
       "    <tr style=\"text-align: right;\">\n",
       "      <th></th>\n",
       "      <th>ticker</th>\n",
       "      <th>timestamp</th>\n",
       "      <th>text</th>\n",
       "      <th>date</th>\n",
       "      <th>tb_sent</th>\n",
       "      <th>vd_sent</th>\n",
       "    </tr>\n",
       "  </thead>\n",
       "  <tbody>\n",
       "    <tr>\n",
       "      <th>7967</th>\n",
       "      <td>btc</td>\n",
       "      <td>Thu Apr 25 03:41:08 2019</td>\n",
       "      <td>Bitcoin Soared Massively in Stellar April the Great Altcoin Boom is Next https://t.co/La8FyiuAHx I love rewards or… https://t.co/a4aUs6qGOi</td>\n",
       "      <td>2019-04-25 03:41:08</td>\n",
       "      <td>0.3875</td>\n",
       "      <td>0.9081</td>\n",
       "    </tr>\n",
       "  </tbody>\n",
       "</table>\n",
       "</div>"
      ],
      "text/plain": [
       "     ticker                 timestamp  \\\n",
       "7967    btc  Thu Apr 25 03:41:08 2019   \n",
       "\n",
       "                                                                                                                                             text  \\\n",
       "7967  Bitcoin Soared Massively in Stellar April the Great Altcoin Boom is Next https://t.co/La8FyiuAHx I love rewards or… https://t.co/a4aUs6qGOi   \n",
       "\n",
       "                    date  tb_sent  vd_sent  \n",
       "7967 2019-04-25 03:41:08   0.3875   0.9081  "
      ]
     },
     "execution_count": 14,
     "metadata": {},
     "output_type": "execute_result"
    }
   ],
   "source": [
    "df.loc[df['vd_sent'] == df.vd_sent.max()].head()"
   ]
  },
  {
   "cell_type": "markdown",
   "metadata": {},
   "source": [
    "Unlike TextBlob, Vader conservatively gives it's max score a .9081 and we see that the most positive tweet that Vader picked up on does indeed have a positive sentiment. "
   ]
  },
  {
   "cell_type": "markdown",
   "metadata": {},
   "source": [
    "Let's now take a look at the negative tweets:"
   ]
  },
  {
   "cell_type": "code",
   "execution_count": 15,
   "metadata": {},
   "outputs": [
    {
     "data": {
      "text/html": [
       "<div>\n",
       "<style scoped>\n",
       "    .dataframe tbody tr th:only-of-type {\n",
       "        vertical-align: middle;\n",
       "    }\n",
       "\n",
       "    .dataframe tbody tr th {\n",
       "        vertical-align: top;\n",
       "    }\n",
       "\n",
       "    .dataframe thead th {\n",
       "        text-align: right;\n",
       "    }\n",
       "</style>\n",
       "<table border=\"1\" class=\"dataframe\">\n",
       "  <thead>\n",
       "    <tr style=\"text-align: right;\">\n",
       "      <th></th>\n",
       "      <th>ticker</th>\n",
       "      <th>timestamp</th>\n",
       "      <th>text</th>\n",
       "      <th>date</th>\n",
       "      <th>tb_sent</th>\n",
       "      <th>vd_sent</th>\n",
       "    </tr>\n",
       "  </thead>\n",
       "  <tbody>\n",
       "    <tr>\n",
       "      <th>1239</th>\n",
       "      <td>btc</td>\n",
       "      <td>Thu Mar 07 13:50:37 2019</td>\n",
       "      <td>BITCOIN IS NOT MONEYthis is INSANE https://t.co/gNOru7Wvch</td>\n",
       "      <td>2019-03-07 13:50:37</td>\n",
       "      <td>-1.0</td>\n",
       "      <td>0.4215</td>\n",
       "    </tr>\n",
       "    <tr>\n",
       "      <th>910</th>\n",
       "      <td>btc</td>\n",
       "      <td>Wed Mar 06 02:30:09 2019</td>\n",
       "      <td>Bitcoin Traders Beware: Group of Robbers Gruesomely Torture Netherlands-Based Crypto Trader https://t.co/wRFq2SQpJP https://t.co/gUQCkkfqYq</td>\n",
       "      <td>2019-03-06 02:30:09</td>\n",
       "      <td>-1.0</td>\n",
       "      <td>-0.5994</td>\n",
       "    </tr>\n",
       "    <tr>\n",
       "      <th>5400</th>\n",
       "      <td>btc</td>\n",
       "      <td>Thu Apr 11 03:37:37 2019</td>\n",
       "      <td>BitcoinNews: \"”It was a community effort beyond the devs 100%.” – Nilic the Grim Electron Cash developer… https://t.co/qwxeHNZ6pa</td>\n",
       "      <td>2019-04-11 03:37:37</td>\n",
       "      <td>-1.0</td>\n",
       "      <td>-0.5719</td>\n",
       "    </tr>\n",
       "    <tr>\n",
       "      <th>424</th>\n",
       "      <td>btc</td>\n",
       "      <td>Sun Mar 03 01:07:48 2019</td>\n",
       "      <td>Bitcoin is government’s worst nightmare. But they will pretend to like it because they know you can’t stop somethin… https://t.co/R9uVswNyzO</td>\n",
       "      <td>2019-03-03 01:07:48</td>\n",
       "      <td>-1.0</td>\n",
       "      <td>-0.4019</td>\n",
       "    </tr>\n",
       "    <tr>\n",
       "      <th>5311</th>\n",
       "      <td>btc</td>\n",
       "      <td>Wed Apr 10 14:19:22 2019</td>\n",
       "      <td>Bitcoin is having a fucking day!!!</td>\n",
       "      <td>2019-04-10 14:19:22</td>\n",
       "      <td>-1.0</td>\n",
       "      <td>0.0000</td>\n",
       "    </tr>\n",
       "  </tbody>\n",
       "</table>\n",
       "</div>"
      ],
      "text/plain": [
       "     ticker                 timestamp  \\\n",
       "1239    btc  Thu Mar 07 13:50:37 2019   \n",
       "910     btc  Wed Mar 06 02:30:09 2019   \n",
       "5400    btc  Thu Apr 11 03:37:37 2019   \n",
       "424     btc  Sun Mar 03 01:07:48 2019   \n",
       "5311    btc  Wed Apr 10 14:19:22 2019   \n",
       "\n",
       "                                                                                                                                              text  \\\n",
       "1239                                                                                    BITCOIN IS NOT MONEYthis is INSANE https://t.co/gNOru7Wvch   \n",
       "910    Bitcoin Traders Beware: Group of Robbers Gruesomely Torture Netherlands-Based Crypto Trader https://t.co/wRFq2SQpJP https://t.co/gUQCkkfqYq   \n",
       "5400             BitcoinNews: \"”It was a community effort beyond the devs 100%.” – Nilic the Grim Electron Cash developer… https://t.co/qwxeHNZ6pa   \n",
       "424   Bitcoin is government’s worst nightmare. But they will pretend to like it because they know you can’t stop somethin… https://t.co/R9uVswNyzO   \n",
       "5311                                                                                                            Bitcoin is having a fucking day!!!   \n",
       "\n",
       "                    date  tb_sent  vd_sent  \n",
       "1239 2019-03-07 13:50:37     -1.0   0.4215  \n",
       "910  2019-03-06 02:30:09     -1.0  -0.5994  \n",
       "5400 2019-04-11 03:37:37     -1.0  -0.5719  \n",
       "424  2019-03-03 01:07:48     -1.0  -0.4019  \n",
       "5311 2019-04-10 14:19:22     -1.0   0.0000  "
      ]
     },
     "execution_count": 15,
     "metadata": {},
     "output_type": "execute_result"
    }
   ],
   "source": [
    "df.loc[df['tb_sent'] == df.tb_sent.min()].sample(5)"
   ]
  },
  {
   "cell_type": "markdown",
   "metadata": {},
   "source": [
    "TextBlob seems to be struggling with classifying what the connotation of the tweets actually are."
   ]
  },
  {
   "cell_type": "code",
   "execution_count": 16,
   "metadata": {},
   "outputs": [
    {
     "data": {
      "text/html": [
       "<div>\n",
       "<style scoped>\n",
       "    .dataframe tbody tr th:only-of-type {\n",
       "        vertical-align: middle;\n",
       "    }\n",
       "\n",
       "    .dataframe tbody tr th {\n",
       "        vertical-align: top;\n",
       "    }\n",
       "\n",
       "    .dataframe thead th {\n",
       "        text-align: right;\n",
       "    }\n",
       "</style>\n",
       "<table border=\"1\" class=\"dataframe\">\n",
       "  <thead>\n",
       "    <tr style=\"text-align: right;\">\n",
       "      <th></th>\n",
       "      <th>ticker</th>\n",
       "      <th>timestamp</th>\n",
       "      <th>text</th>\n",
       "      <th>date</th>\n",
       "      <th>tb_sent</th>\n",
       "      <th>vd_sent</th>\n",
       "    </tr>\n",
       "  </thead>\n",
       "  <tbody>\n",
       "    <tr>\n",
       "      <th>8924</th>\n",
       "      <td>btc</td>\n",
       "      <td>Tue Apr 30 13:12:20 2019</td>\n",
       "      <td>Bitcoiner Project Assessments:- DAI/Maker: SCAM- Zcash: SCAM- Litecoin: SCAM- Ethereum: SCAM- The Fed: SCAM-… https://t.co/Byuli8AhBJ</td>\n",
       "      <td>2019-04-30 13:12:20</td>\n",
       "      <td>0.0</td>\n",
       "      <td>-0.9625</td>\n",
       "    </tr>\n",
       "  </tbody>\n",
       "</table>\n",
       "</div>"
      ],
      "text/plain": [
       "     ticker                 timestamp  \\\n",
       "8924    btc  Tue Apr 30 13:12:20 2019   \n",
       "\n",
       "                                                                                                                                       text  \\\n",
       "8924  Bitcoiner Project Assessments:- DAI/Maker: SCAM- Zcash: SCAM- Litecoin: SCAM- Ethereum: SCAM- The Fed: SCAM-… https://t.co/Byuli8AhBJ   \n",
       "\n",
       "                    date  tb_sent  vd_sent  \n",
       "8924 2019-04-30 13:12:20      0.0  -0.9625  "
      ]
     },
     "execution_count": 16,
     "metadata": {},
     "output_type": "execute_result"
    }
   ],
   "source": [
    "df.loc[df['vd_sent'] == df.vd_sent.min()]"
   ]
  },
  {
   "cell_type": "markdown",
   "metadata": {},
   "source": [
    "I can see why Vader rated this one as a negative tweet; however, I'm rather shocked that TextBlob didn't pick up on this. The word \"SCAM\" written multiple times throughout the tweet should have at least slightly negatively impacted the sentiment."
   ]
  }
 ],
 "metadata": {
  "kernelspec": {
   "display_name": "Python 3",
   "language": "python",
   "name": "python3"
  },
  "language_info": {
   "codemirror_mode": {
    "name": "ipython",
    "version": 3
   },
   "file_extension": ".py",
   "mimetype": "text/x-python",
   "name": "python",
   "nbconvert_exporter": "python",
   "pygments_lexer": "ipython3",
   "version": "3.6.5"
  }
 },
 "nbformat": 4,
 "nbformat_minor": 2
}
